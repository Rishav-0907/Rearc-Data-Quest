{
 "cells": [
  {
   "cell_type": "markdown",
   "id": "1d39a8a8",
   "metadata": {},
   "source": [
    "# BLS Data Analysis\n",
    "\n",
    "This notebook contains the analysis of BLS data and population data, including:\n",
    "1. Population statistics for years 2013-2018\n",
    "2. Best years analysis for each series_id\n",
    "3. Combined report for PRS30006032 and Q01"
   ]
  },
  {
   "cell_type": "code",
   "execution_count": null,
   "id": "fbb7040a",
   "metadata": {},
   "outputs": [],
   "source": [
    "import os\n",
    "import logging\n",
    "import tempfile\n",
    "from pyspark.sql import SparkSession\n",
    "from pyspark.sql.functions import col, sum, year, when, max, mean, stddev, struct, trim\n",
    "from pyspark.sql.types import StructType, StructField, StringType, DoubleType, IntegerType\n",
    "import boto3\n",
    "from dotenv import load_dotenv\n",
    "\n",
    "# Configure logging\n",
    "logging.basicConfig(level=logging.INFO)\n",
    "logger = logging.getLogger(__name__)\n",
    "\n",
    "# Load environment variables\n",
    "load_dotenv()"
   ]
  },
  {
   "cell_type": "code",
   "execution_count": null,
   "id": "b6eedf61",
   "metadata": {},
   "outputs": [],
   "source": [
    "# Initialize Spark Session\n",
    "spark = SparkSession.builder \\\n",
    "    .appName(\"BLS Data Analysis\") \\\n",
    "    .getOrCreate()\n",
    "\n",
    "# Initialize S3 client\n",
    "s3_client = boto3.client('s3')\n",
    "bucket_name = os.getenv('S3_BUCKET_NAME')\n",
    "temp_dir = tempfile.mkdtemp()"
   ]
  },
  {
   "cell_type": "markdown",
   "id": "d5c2c472",
   "metadata": {},
   "source": [
    "## 1. Population Statistics (2013-2018)"
   ]
  },
  {
   "cell_type": "code",
   "execution_count": null,
   "id": "10dcdb7e",
   "metadata": {},
   "outputs": [],
   "source": [
    "# Read population data\n",
    "population_df = spark.read \\\n",
    "    .option(\"multiline\", \"true\") \\\n",
    "    .json(\"population_data.json\")\n",
    "\n",
    "# Filter for years 2013-2018\n",
    "filtered_df = population_df.filter(\n",
    "    (col(\"year\") >= 2013) & (col(\"year\") <= 2018)\n",
    ")\n",
    "\n",
    "# Calculate statistics\n",
    "stats = filtered_df.select(\n",
    "    mean(\"value\").alias(\"mean_population\"),\n",
    "    stddev(\"value\").alias(\"stddev_population\")\n",
    ")\n",
    "\n",
    "stats.show()"
   ]
  },
  {
   "cell_type": "markdown",
   "id": "925db157",
   "metadata": {},
   "source": [
    "## 2. Best Years Analysis"
   ]
  },
  {
   "cell_type": "code",
   "execution_count": null,
   "id": "6af2a458",
   "metadata": {},
   "outputs": [],
   "source": [
    "# Read BLS data\n",
    "bls_df = spark.read \\\n",
    "    .option(\"header\", \"true\") \\\n",
    "    .option(\"inferSchema\", \"true\") \\\n",
    "    .option(\"delimiter\", \"\\t\") \\\n",
    "    .csv(\"bls_data.csv\")\n",
    "\n",
    "# Group by series_id and year, sum the values\n",
    "yearly_sums = bls_df.groupBy(\"series_id\", \"year\") \\\n",
    "    .agg(sum(\"value\").alias(\"yearly_sum\"))\n",
    "\n",
    "# Find the year with maximum sum for each series_id\n",
    "best_years = yearly_sums.groupBy(\"series_id\") \\\n",
    "    .agg(\n",
    "        max(struct(col(\"yearly_sum\"), col(\"year\")))[\"year\"].alias(\"best_year\"),\n",
    "        max(\"yearly_sum\").alias(\"max_value\")\n",
    "    )\n",
    "\n",
    "best_years.show()"
   ]
  },
  {
   "cell_type": "markdown",
   "id": "30ed4fcd",
   "metadata": {},
   "source": [
    "## 3. Combined Report (PRS30006032, Q01)"
   ]
  },
  {
   "cell_type": "code",
   "execution_count": null,
   "id": "fab45df2",
   "metadata": {},
   "outputs": [],
   "source": [
    "# Filter for specific series_id and period\n",
    "filtered_bls = bls_df.filter(\n",
    "    (col(\"series_id\") == \"PRS30006032\") & \n",
    "    (col(\"period\") == \"Q01\")\n",
    ")\n",
    "\n",
    "# Rename columns in population_df to avoid ambiguity\n",
    "pop_df = population_df.withColumnRenamed(\"value\", \"Population\").withColumnRenamed(\"year\", \"pop_year\")\n",
    "\n",
    "# Join with population data\n",
    "combined_df = filtered_bls.join(\n",
    "    pop_df,\n",
    "    filtered_bls.year == pop_df.pop_year,\n",
    "    \"left\"\n",
    ").select(\n",
    "    filtered_bls[\"series_id\"],\n",
    "    filtered_bls[\"year\"],\n",
    "    filtered_bls[\"period\"],\n",
    "    filtered_bls[\"value\"],\n",
    "    col(\"Population\")\n",
    ")\n",
    "\n",
    "combined_df.show()"
   ]
  }
 ],
 "metadata": {},
 "nbformat": 4,
 "nbformat_minor": 5
}
